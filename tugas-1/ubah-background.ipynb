{
 "cells": [
  {
   "cell_type": "code",
   "execution_count": 2,
   "id": "23c3c63b-3faa-4943-a127-3dd981357e66",
   "metadata": {},
   "outputs": [],
   "source": [
    "import pandas as pd\n",
    "import numpy as np\n",
    "\n",
    "import os\n",
    "from pathlib import Path\n",
    "\n",
    "import cv2 as cv"
   ]
  },
  {
   "cell_type": "code",
   "execution_count": 4,
   "id": "44764a7a-227a-47e0-9b53-912988c9ae98",
   "metadata": {},
   "outputs": [],
   "source": [
    "# Membaca gambar input\n",
    "image = cv.imread(\"Foto.jpg\")\n",
    "\n",
    "# Mengonversi gambar ke ruang warna HSV\n",
    "hsv = cv.cvtColor(image, cv.COLOR_BGR2HSV)\n",
    "\n",
    "# Menentukan rentang warna merah untuk mask\n",
    "lower_red = np.array([0, 100, 100])\n",
    "upper_red = np.array([10, 255, 255])\n",
    "\n",
    "# Membuat mask untuk mengisolasi area merah\n",
    "mask = cv.inRange(hsv, lower_red, upper_red)\n",
    "\n",
    "# Membuat background biru dengan ukuran yang sama seperti gambar asli\n",
    "blue_background = np.full_like(image, (255, 0, 0))  # (B, G, R) untuk biru\n",
    "\n",
    "# Menggabungkan background biru di area mask\n",
    "blue_area = cv.bitwise_and(blue_background, blue_background, mask=mask)\n",
    "\n",
    "# Menggabungkan gambar asli di area yang tidak termasuk mask\n",
    "original_area = cv.bitwise_and(image, image, mask=cv.bitwise_not(mask))\n",
    "\n",
    "# Menggabungkan kedua area untuk membuat hasil akhir\n",
    "result = cv.bitwise_or(blue_area, original_area)\n",
    "\n",
    "# Menyimpan dan menampilkan hasil\n",
    "cv.imwrite(\"Background Biru.jpeg\", result)\n",
    "cv.imshow(\"Image with Blue Background\", result)\n",
    "cv.waitKey(0)\n",
    "cv.destroyAllWindows()"
   ]
  },
  {
   "cell_type": "code",
   "execution_count": null,
   "id": "b456458b-b34c-4b0a-b4f3-069bdd85db91",
   "metadata": {},
   "outputs": [],
   "source": []
  }
 ],
 "metadata": {
  "kernelspec": {
   "display_name": "Python 3 (ipykernel)",
   "language": "python",
   "name": "python3"
  },
  "language_info": {
   "codemirror_mode": {
    "name": "ipython",
    "version": 3
   },
   "file_extension": ".py",
   "mimetype": "text/x-python",
   "name": "python",
   "nbconvert_exporter": "python",
   "pygments_lexer": "ipython3",
   "version": "3.10.11"
  }
 },
 "nbformat": 4,
 "nbformat_minor": 5
}
