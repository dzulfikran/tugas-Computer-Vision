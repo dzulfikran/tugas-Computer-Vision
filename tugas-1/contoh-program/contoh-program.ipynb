{
 "cells": [
  {
   "cell_type": "code",
   "execution_count": 1,
   "id": "80839369-bf15-4526-817d-6bd5c0352f6a",
   "metadata": {},
   "outputs": [],
   "source": [
    "import pandas as pd\n",
    "import numpy as np\n",
    "\n",
    "import os\n",
    "from pathlib import Path\n",
    "\n",
    "import cv2 as cv"
   ]
  },
  {
   "cell_type": "markdown",
   "id": "db4a8853-85ec-410b-bcfd-e33da9278d40",
   "metadata": {
    "jp-MarkdownHeadingCollapsed": true
   },
   "source": [
    "# Memuat Gambar"
   ]
  },
  {
   "cell_type": "code",
   "execution_count": 2,
   "id": "f2d73a39-8c5a-402b-94a1-a690d5da7e1d",
   "metadata": {},
   "outputs": [],
   "source": [
    "# Memuat gambar\n",
    "image = cv.imread(\"patrick.jpeg\")"
   ]
  },
  {
   "cell_type": "code",
   "execution_count": 3,
   "id": "a73d72b9-4cda-4dee-bf0c-3325db03d090",
   "metadata": {},
   "outputs": [
    {
     "data": {
      "text/plain": [
       "(736, 736, 3)"
      ]
     },
     "execution_count": 3,
     "metadata": {},
     "output_type": "execute_result"
    }
   ],
   "source": [
    "image.shape"
   ]
  },
  {
   "cell_type": "code",
   "execution_count": 4,
   "id": "2854e4b8-deb8-4ed4-98e3-f93b4b2f0065",
   "metadata": {},
   "outputs": [],
   "source": [
    "# menampilkan gambar\n",
    "cv.imshow(\"Gambar\", image)\n",
    "\n",
    "# menunggu input dari keyboard\n",
    "cv.waitKey(0)\n",
    "\n",
    "cv.destroyAllWindows()"
   ]
  },
  {
   "cell_type": "markdown",
   "id": "5b47402f-7dd1-4c03-a6a2-6f832cbed21e",
   "metadata": {
    "jp-MarkdownHeadingCollapsed": true
   },
   "source": [
    "# Transformasi Warna"
   ]
  },
  {
   "cell_type": "markdown",
   "id": "f4a6b30e-8e71-4c4d-b4ab-9a72cd0a59ef",
   "metadata": {},
   "source": [
    "#### 1. Grayscale "
   ]
  },
  {
   "cell_type": "code",
   "execution_count": 5,
   "id": "a9f30b45-8b0c-4458-b916-3e260d879adc",
   "metadata": {},
   "outputs": [
    {
     "data": {
      "text/plain": [
       "True"
      ]
     },
     "execution_count": 5,
     "metadata": {},
     "output_type": "execute_result"
    }
   ],
   "source": [
    "# Konversi ke grayscale\n",
    "gray_image = cv.cvtColor(image, cv.COLOR_BGR2GRAY)\n",
    "\n",
    "# Menyimpan hasil\n",
    "cv.imwrite('gray_image.jpg', gray_image)"
   ]
  },
  {
   "cell_type": "code",
   "execution_count": 6,
   "id": "d1552932-7afb-4d35-87fa-6276ac3377db",
   "metadata": {},
   "outputs": [],
   "source": [
    "# Menampikan gambar\n",
    "cv.imshow(\"Gambar Abu-Abu\", gray_image)\n",
    "cv.waitKey(0)\n",
    "\n",
    "cv.destroyAllWindows()"
   ]
  },
  {
   "cell_type": "markdown",
   "id": "5b2a00ee-8d24-4d94-914a-00418ae97ca8",
   "metadata": {},
   "source": [
    "#### 2. Sepia"
   ]
  },
  {
   "cell_type": "code",
   "execution_count": 7,
   "id": "6ffca26a-7785-4d85-9489-6e1c80da577c",
   "metadata": {},
   "outputs": [
    {
     "data": {
      "text/plain": [
       "True"
      ]
     },
     "execution_count": 7,
     "metadata": {},
     "output_type": "execute_result"
    }
   ],
   "source": [
    "# Membuat matriks sepia\n",
    "sepia_filter = np.array([[0.272, 0.534, 0.131],\n",
    "                         [0.349, 0.686, 0.168],\n",
    "                         [0.393, 0.769, 0.189]])\n",
    "\n",
    "sepia_image = cv.transform(image, sepia_filter)\n",
    "\n",
    "# Menjaga nilai dalam rentang yang valid\n",
    "sepia_image = np.clip(sepia_image, 0, 255)\n",
    "\n",
    "# Menyimpan hasil\n",
    "cv.imwrite('sepia_image.jpg', sepia_image)"
   ]
  },
  {
   "cell_type": "code",
   "execution_count": 8,
   "id": "63cd1d95-b9ab-496f-af68-3a2a5f66600f",
   "metadata": {},
   "outputs": [],
   "source": [
    "# Menampikan gambar\n",
    "cv.imshow(\"Gambar Sepia\", sepia_image)\n",
    "cv.waitKey(0)\n",
    "\n",
    "cv.destroyAllWindows()"
   ]
  },
  {
   "cell_type": "markdown",
   "id": "be50bf63-d4a0-406f-88fc-8130c36d4302",
   "metadata": {},
   "source": [
    "#### 3. Negatif"
   ]
  },
  {
   "cell_type": "code",
   "execution_count": 9,
   "id": "e5814331-7516-4e04-ac33-860ff3dab65a",
   "metadata": {},
   "outputs": [
    {
     "data": {
      "text/plain": [
       "True"
      ]
     },
     "execution_count": 9,
     "metadata": {},
     "output_type": "execute_result"
    }
   ],
   "source": [
    "# Mengubah gambar menjadi negatif\n",
    "negative_image = 255 - image\n",
    "\n",
    "# Menyimpan hasil\n",
    "cv.imwrite('negative_image.jpg', negative_image)"
   ]
  },
  {
   "cell_type": "code",
   "execution_count": 10,
   "id": "27cf70b9-d078-4b46-8f33-3693085c02d8",
   "metadata": {},
   "outputs": [],
   "source": [
    "# Menampikan gambar\n",
    "cv.imshow(\"Gambar Negatif\", negative_image)\n",
    "cv.waitKey(0)\n",
    "\n",
    "cv.destroyAllWindows()"
   ]
  },
  {
   "cell_type": "markdown",
   "id": "6b33d40e-c6af-434a-b846-e671bd2e4653",
   "metadata": {},
   "source": [
    "#### 4. Peningkatan Kontras dengan CLAHE "
   ]
  },
  {
   "cell_type": "code",
   "execution_count": 11,
   "id": "0c8bbf96-966f-4bdf-a1a6-7106260e9e16",
   "metadata": {},
   "outputs": [
    {
     "data": {
      "text/plain": [
       "True"
      ]
     },
     "execution_count": 11,
     "metadata": {},
     "output_type": "execute_result"
    }
   ],
   "source": [
    "# Memuat gambar dalam grayscale\n",
    "image = cv.imread('patrick.jpeg', 0)\n",
    "\n",
    "# Membuat objek CLAHE\n",
    "clahe = cv.createCLAHE(clipLimit=2.0, tileGridSize=(8, 8))\n",
    "contrast_image = clahe.apply(image)\n",
    "\n",
    "# Menyimpan hasil\n",
    "cv.imwrite('contrast_image.jpg', contrast_image)"
   ]
  },
  {
   "cell_type": "code",
   "execution_count": 12,
   "id": "d1b357f9-88e8-4bb8-953d-70f762347920",
   "metadata": {},
   "outputs": [],
   "source": [
    "# Menampikan gambar\n",
    "cv.imshow(\"Gambar Kontras\", contrast_image)\n",
    "cv.waitKey(0)\n",
    "\n",
    "cv.destroyAllWindows()"
   ]
  },
  {
   "cell_type": "markdown",
   "id": "898a4753-1061-4176-9c93-375b9ac048d0",
   "metadata": {
    "jp-MarkdownHeadingCollapsed": true
   },
   "source": [
    "# Rotasi"
   ]
  },
  {
   "cell_type": "markdown",
   "id": "622e65cd-d140-4331-8681-b64b20d6a41c",
   "metadata": {},
   "source": [
    "#### 1. Rotasi 90°"
   ]
  },
  {
   "cell_type": "code",
   "execution_count": 13,
   "id": "9b7ebd76-bd8f-4357-8ca4-21c9e5938729",
   "metadata": {},
   "outputs": [
    {
     "data": {
      "text/plain": [
       "True"
      ]
     },
     "execution_count": 13,
     "metadata": {},
     "output_type": "execute_result"
    }
   ],
   "source": [
    "# Mendapatkan dimensi gambar\n",
    "(h, w) = image.shape[:2]\n",
    "\n",
    "# Menentukan titik pusat gambar\n",
    "center = (w // 2, h // 2)\n",
    "\n",
    "# Mengatur rotasi sebesar 90 derajat\n",
    "matrix = cv.getRotationMatrix2D(center, 90, 1.0)\n",
    "rotated_image = cv.warpAffine(image, matrix, (w, h))\n",
    "\n",
    "# Menyimpan hasil\n",
    "cv.imwrite('rotated_image.jpg', rotated_image)"
   ]
  },
  {
   "cell_type": "code",
   "execution_count": 14,
   "id": "78e1556e-9f25-4474-9519-a50e39e2f91d",
   "metadata": {},
   "outputs": [],
   "source": [
    "# Menampikan gambar\n",
    "cv.imshow(\"Rotasi 90°\", rotated_image)\n",
    "cv.waitKey(0)\n",
    "\n",
    "cv.destroyAllWindows()"
   ]
  },
  {
   "cell_type": "markdown",
   "id": "fe45780c-33c7-469a-9362-345ea545a6dd",
   "metadata": {},
   "source": [
    "#### 2. Rotasi 45°"
   ]
  },
  {
   "cell_type": "code",
   "execution_count": 15,
   "id": "f96d5d8b-91a3-4866-bf32-5e5707643c46",
   "metadata": {},
   "outputs": [
    {
     "data": {
      "text/plain": [
       "True"
      ]
     },
     "execution_count": 15,
     "metadata": {},
     "output_type": "execute_result"
    }
   ],
   "source": [
    "# Mendapatkan dimensi gambar\n",
    "(h, w) = image.shape[:2]\n",
    "\n",
    "# Menentukan titik pusat gambar\n",
    "center = (w // 2, h // 2)\n",
    "\n",
    "# Mengatur rotasi sebesar 45 derajat\n",
    "matrix = cv.getRotationMatrix2D(center, 45, 1.0)\n",
    "rotated_image_45 = cv.warpAffine(image, matrix, (w, h))\n",
    "\n",
    "# Menyimpan hasil\n",
    "cv.imwrite('rotated_image_45.jpg', rotated_image_45)"
   ]
  },
  {
   "cell_type": "code",
   "execution_count": 16,
   "id": "4c50c81b-e596-497d-8ee6-31c095c08ac9",
   "metadata": {},
   "outputs": [],
   "source": [
    "# Menampikan gambar\n",
    "cv.imshow(\"Rotasi 45°\", rotated_image_45)\n",
    "cv.waitKey(0)\n",
    "\n",
    "cv.destroyAllWindows()"
   ]
  },
  {
   "cell_type": "markdown",
   "id": "29bf65f7-e021-4544-ad75-5054c3b9c3ef",
   "metadata": {},
   "source": [
    "#### Rotasi 180°"
   ]
  },
  {
   "cell_type": "code",
   "execution_count": 17,
   "id": "27ea928b-2bcf-488e-baa1-719b480f3f1e",
   "metadata": {},
   "outputs": [
    {
     "data": {
      "text/plain": [
       "True"
      ]
     },
     "execution_count": 17,
     "metadata": {},
     "output_type": "execute_result"
    }
   ],
   "source": [
    "# Mendapatkan dimensi gambar\n",
    "(h, w) = image.shape[:2]\n",
    "\n",
    "# Menentukan titik pusat gambar\n",
    "center = (w // 2, h // 2)\n",
    "\n",
    "# Mengatur rotasi sebesar 180 derajat\n",
    "matrix = cv.getRotationMatrix2D(center, 180, 1.0)\n",
    "rotated_image_180 = cv.warpAffine(image, matrix, (w, h))\n",
    "\n",
    "# Menyimpan hasil\n",
    "cv.imwrite('rotated_image_180.jpg', rotated_image_180)"
   ]
  },
  {
   "cell_type": "code",
   "execution_count": 18,
   "id": "9a845581-f050-41d6-be5c-4454e8227b60",
   "metadata": {},
   "outputs": [],
   "source": [
    "# Menampikan gambar\n",
    "cv.imshow(\"Rotasi 180°\", rotated_image_180)\n",
    "cv.waitKey(0)\n",
    "\n",
    "cv.destroyAllWindows()"
   ]
  },
  {
   "cell_type": "markdown",
   "id": "41af7615-7a73-4bca-82a6-49033a927afd",
   "metadata": {
    "jp-MarkdownHeadingCollapsed": true
   },
   "source": [
    "# Scaling (Penskalaan)"
   ]
  },
  {
   "cell_type": "markdown",
   "id": "0462750f-b22a-4255-9030-ca6c8360e6e4",
   "metadata": {},
   "source": [
    "#### 1. Scaling dengan Faktor 2x"
   ]
  },
  {
   "cell_type": "code",
   "execution_count": 19,
   "id": "057654e7-66ff-4e73-8aee-f0df01a427d4",
   "metadata": {},
   "outputs": [
    {
     "data": {
      "text/plain": [
       "True"
      ]
     },
     "execution_count": 19,
     "metadata": {},
     "output_type": "execute_result"
    }
   ],
   "source": [
    "# Scaling gambar (misal, 2x lebih besar)\n",
    "scaled_image = cv.resize(image, None, fx=2.0, fy=2.0, interpolation=cv.INTER_LINEAR)\n",
    "\n",
    "# Menyimpan hasil\n",
    "cv.imwrite('scaled_image.jpg', scaled_image)"
   ]
  },
  {
   "cell_type": "code",
   "execution_count": 20,
   "id": "e5cfc5d6-02f4-4e60-a505-c5a6d2f2cfe8",
   "metadata": {},
   "outputs": [],
   "source": [
    "# Menampikan gambar\n",
    "cv.imshow(\"Scaling 2x°\", scaled_image)\n",
    "cv.waitKey(0)\n",
    "\n",
    "cv.destroyAllWindows()"
   ]
  },
  {
   "cell_type": "markdown",
   "id": "2fefb906-8319-444e-92fc-fe24a7a40cde",
   "metadata": {},
   "source": [
    "#### 2. Memperkecil Gambar dengan Faktor 0.5"
   ]
  },
  {
   "cell_type": "code",
   "execution_count": 21,
   "id": "77193c6d-d06e-4fe2-8788-f2509164ba40",
   "metadata": {},
   "outputs": [
    {
     "data": {
      "text/plain": [
       "True"
      ]
     },
     "execution_count": 21,
     "metadata": {},
     "output_type": "execute_result"
    }
   ],
   "source": [
    "# Scaling gambar (misal, 0.5x lebih kecil)\n",
    "scaled_down_image = cv.resize(image, None, fx=0.5, fy=0.5, interpolation=cv.INTER_AREA)\n",
    "\n",
    "# Menyimpan hasil\n",
    "cv.imwrite('scaled_down_image.jpg', scaled_down_image)"
   ]
  },
  {
   "cell_type": "code",
   "execution_count": 22,
   "id": "526a3ed1-a7e2-4f07-84f6-2ddd75a73d1c",
   "metadata": {},
   "outputs": [],
   "source": [
    "# Menampikan gambar\n",
    "cv.imshow(\"Gambar Diperkecil°\", scaled_down_image)\n",
    "cv.waitKey(0)\n",
    "\n",
    "cv.destroyAllWindows()"
   ]
  },
  {
   "cell_type": "markdown",
   "id": "f01b43a5-29cb-4144-be52-eff9a389cb2b",
   "metadata": {},
   "source": [
    "#### 3. Memperbesar Gambar dengan Ukuran Spesifik"
   ]
  },
  {
   "cell_type": "code",
   "execution_count": 23,
   "id": "6221078f-ed4c-4837-b21e-3caace88440c",
   "metadata": {},
   "outputs": [
    {
     "data": {
      "text/plain": [
       "True"
      ]
     },
     "execution_count": 23,
     "metadata": {},
     "output_type": "execute_result"
    }
   ],
   "source": [
    "# Mengatur ukuran output\n",
    "new_width = 500\n",
    "new_height = 500\n",
    "\n",
    "scaled_to_size_image = cv.resize(image, (new_width, new_height), interpolation=cv.INTER_CUBIC)\n",
    "\n",
    "# Menyimpan hasil\n",
    "cv.imwrite('scaled_to_size_image.jpg', scaled_to_size_image)"
   ]
  },
  {
   "cell_type": "code",
   "execution_count": 24,
   "id": "ec377998-e0d1-40c2-9a24-070f5e0e5737",
   "metadata": {},
   "outputs": [],
   "source": [
    "# Menampikan gambar\n",
    "cv.imshow(\"Gambar Ukuran Spesifik°\", scaled_to_size_image)\n",
    "cv.waitKey(0)\n",
    "\n",
    "cv.destroyAllWindows()"
   ]
  },
  {
   "cell_type": "markdown",
   "id": "a353e305-3ee4-4456-8668-a08594c07dd3",
   "metadata": {
    "jp-MarkdownHeadingCollapsed": true
   },
   "source": [
    "# Flipping (Membalikkan)"
   ]
  },
  {
   "cell_type": "markdown",
   "id": "1504fdd9-507c-4890-8172-a61655b94fe4",
   "metadata": {},
   "source": [
    "#### 1. Membalikkan Gambar Secara Horizontal"
   ]
  },
  {
   "cell_type": "code",
   "execution_count": 25,
   "id": "a75dd6a9-b0bd-4984-99a6-a7c6399a71ec",
   "metadata": {},
   "outputs": [
    {
     "data": {
      "text/plain": [
       "True"
      ]
     },
     "execution_count": 25,
     "metadata": {},
     "output_type": "execute_result"
    }
   ],
   "source": [
    "# Membalikkan gambar secara horizontal\n",
    "flipped_image = cv.flip(image, 1)\n",
    "\n",
    "# Menyimpan hasil\n",
    "cv.imwrite('flipped_image.jpg', flipped_image)"
   ]
  },
  {
   "cell_type": "code",
   "execution_count": 26,
   "id": "ad7a826d-011c-4716-9a25-c1f55bd0c632",
   "metadata": {},
   "outputs": [],
   "source": [
    "# Menampikan gambar\n",
    "cv.imshow(\"Flip Horizontal\", flipped_image)\n",
    "cv.waitKey(0)\n",
    "\n",
    "cv.destroyAllWindows()"
   ]
  },
  {
   "cell_type": "markdown",
   "id": "825354f5-3d1d-45cf-b9e7-7afcdc9a9bbe",
   "metadata": {},
   "source": [
    "#### 2. Membalikkan Gambar Secara Vertikal"
   ]
  },
  {
   "cell_type": "code",
   "execution_count": 27,
   "id": "b7543093-f9f8-41c6-9e76-54d5d345977e",
   "metadata": {},
   "outputs": [
    {
     "data": {
      "text/plain": [
       "True"
      ]
     },
     "execution_count": 27,
     "metadata": {},
     "output_type": "execute_result"
    }
   ],
   "source": [
    "# Membalikkan gambar secara vertikal\n",
    "flipped_vertical = cv.flip(image, 0)\n",
    "\n",
    "# Menyimpan hasil\n",
    "cv.imwrite('flipped_vertical.jpg', flipped_vertical)"
   ]
  },
  {
   "cell_type": "code",
   "execution_count": 28,
   "id": "bdb47283-5707-4f9e-8ce5-eb18bfb4666d",
   "metadata": {},
   "outputs": [],
   "source": [
    "# Menampikan gambar\n",
    "cv.imshow(\"Flip Vertikal\", flipped_vertical)\n",
    "cv.waitKey(0)\n",
    "\n",
    "cv.destroyAllWindows()"
   ]
  },
  {
   "cell_type": "markdown",
   "id": "d3f7b2dd-aa99-4c3f-ae89-fdd4648b8fdc",
   "metadata": {},
   "source": [
    "#### 3. Membalikkan Gambar Secara Horizontal dan Vertikal"
   ]
  },
  {
   "cell_type": "code",
   "execution_count": 29,
   "id": "7cc47801-9f02-4093-aa05-16f5ab295ad5",
   "metadata": {},
   "outputs": [
    {
     "data": {
      "text/plain": [
       "True"
      ]
     },
     "execution_count": 29,
     "metadata": {},
     "output_type": "execute_result"
    }
   ],
   "source": [
    "# Membalikkan gambar secara horizontal dan vertikal\n",
    "flipped_both = cv.flip(image, -1)\n",
    "\n",
    "# Menyimpan hasil\n",
    "cv.imwrite('flipped_both.jpg', flipped_both)"
   ]
  },
  {
   "cell_type": "code",
   "execution_count": 30,
   "id": "3cb35eee-001b-4965-9257-dfe60b68a2ad",
   "metadata": {},
   "outputs": [],
   "source": [
    "# Menampikan gambar\n",
    "cv.imshow(\"Flip Horizontal & Vertikal\", flipped_both)\n",
    "cv.waitKey(0)\n",
    "\n",
    "cv.destroyAllWindows()"
   ]
  },
  {
   "cell_type": "code",
   "execution_count": null,
   "id": "bc9fd60f-54ad-4217-8a9e-8827586d65b4",
   "metadata": {},
   "outputs": [],
   "source": []
  }
 ],
 "metadata": {
  "kernelspec": {
   "display_name": "Python 3 (ipykernel)",
   "language": "python",
   "name": "python3"
  },
  "language_info": {
   "codemirror_mode": {
    "name": "ipython",
    "version": 3
   },
   "file_extension": ".py",
   "mimetype": "text/x-python",
   "name": "python",
   "nbconvert_exporter": "python",
   "pygments_lexer": "ipython3",
   "version": "3.10.11"
  }
 },
 "nbformat": 4,
 "nbformat_minor": 5
}
