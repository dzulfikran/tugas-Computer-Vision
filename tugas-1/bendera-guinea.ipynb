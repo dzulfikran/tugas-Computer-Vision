{
 "cells": [
  {
   "cell_type": "code",
   "execution_count": 1,
   "id": "23c3c63b-3faa-4943-a127-3dd981357e66",
   "metadata": {},
   "outputs": [],
   "source": [
    "import pandas as pd\n",
    "import numpy as np\n",
    "\n",
    "import os\n",
    "from pathlib import Path\n",
    "\n",
    "import cv2 as cv"
   ]
  },
  {
   "cell_type": "code",
   "execution_count": 15,
   "id": "44764a7a-227a-47e0-9b53-912988c9ae98",
   "metadata": {},
   "outputs": [],
   "source": [
    "# Ukuran bendera\n",
    "height = 600\n",
    "width = 900\n",
    "\n",
    "# Warna\n",
    "red = (0, 0, 255)  # Merah\n",
    "yellow = (0, 255, 255)  # Kuning\n",
    "green = (0, 255, 0)  # Hijau\n",
    "\n",
    "# Membuat latar belakang putih (sebagai dasar)\n",
    "flag = np.zeros((height, width, 3), dtype=np.uint8)\n",
    "\n",
    "# Lebar setiap garis vertikal\n",
    "stripe_width = width // 3\n",
    "\n",
    "# Menggambar garis vertikal merah di sisi kiri\n",
    "flag[:, :stripe_width] = red\n",
    "\n",
    "# Menggambar garis vertikal kuning di tengah\n",
    "flag[:, stripe_width:2 * stripe_width] = yellow\n",
    "\n",
    "# Menggambar garis vertikal hijau di sisi kanan\n",
    "flag[:, 2 * stripe_width:] = green\n",
    "\n",
    "# Menyimpan hasil\n",
    "cv.imwrite(\"Bendera Guinea.jpg\", flag)\n",
    "\n",
    "# Menampilkan hasil\n",
    "cv.imshow(\"IBendera Guinea\", flag)\n",
    "cv.waitKey(0)\n",
    "cv.destroyAllWindows()\n"
   ]
  },
  {
   "cell_type": "code",
   "execution_count": null,
   "id": "b456458b-b34c-4b0a-b4f3-069bdd85db91",
   "metadata": {},
   "outputs": [],
   "source": []
  }
 ],
 "metadata": {
  "kernelspec": {
   "display_name": "Python 3 (ipykernel)",
   "language": "python",
   "name": "python3"
  },
  "language_info": {
   "codemirror_mode": {
    "name": "ipython",
    "version": 3
   },
   "file_extension": ".py",
   "mimetype": "text/x-python",
   "name": "python",
   "nbconvert_exporter": "python",
   "pygments_lexer": "ipython3",
   "version": "3.10.11"
  }
 },
 "nbformat": 4,
 "nbformat_minor": 5
}
